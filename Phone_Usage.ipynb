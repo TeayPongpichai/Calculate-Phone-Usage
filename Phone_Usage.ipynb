{
  "nbformat": 4,
  "nbformat_minor": 0,
  "metadata": {
    "colab": {
      "provenance": []
    },
    "kernelspec": {
      "name": "python3",
      "display_name": "Python 3"
    },
    "language_info": {
      "name": "python"
    }
  },
  "cells": [
    {
      "cell_type": "code",
      "execution_count": 56,
      "metadata": {
        "colab": {
          "base_uri": "https://localhost:8080/",
          "height": 17
        },
        "id": "7NdFSqRcbKMU",
        "outputId": "a3a98d81-5e4a-439f-dead-4c7139cbb84a"
      },
      "outputs": [
        {
          "output_type": "display_data",
          "data": {
            "text/plain": [
              "<IPython.core.display.Javascript object>"
            ],
            "application/javascript": [
              "\n",
              "    async function download(id, filename, size) {\n",
              "      if (!google.colab.kernel.accessAllowed) {\n",
              "        return;\n",
              "      }\n",
              "      const div = document.createElement('div');\n",
              "      const label = document.createElement('label');\n",
              "      label.textContent = `Downloading \"${filename}\": `;\n",
              "      div.appendChild(label);\n",
              "      const progress = document.createElement('progress');\n",
              "      progress.max = size;\n",
              "      div.appendChild(progress);\n",
              "      document.body.appendChild(div);\n",
              "\n",
              "      const buffers = [];\n",
              "      let downloaded = 0;\n",
              "\n",
              "      const channel = await google.colab.kernel.comms.open(id);\n",
              "      // Send a message to notify the kernel that we're ready.\n",
              "      channel.send({})\n",
              "\n",
              "      for await (const message of channel.messages) {\n",
              "        // Send a message to notify the kernel that we're ready.\n",
              "        channel.send({})\n",
              "        if (message.buffers) {\n",
              "          for (const buffer of message.buffers) {\n",
              "            buffers.push(buffer);\n",
              "            downloaded += buffer.byteLength;\n",
              "            progress.value = downloaded;\n",
              "          }\n",
              "        }\n",
              "      }\n",
              "      const blob = new Blob(buffers, {type: 'application/binary'});\n",
              "      const a = document.createElement('a');\n",
              "      a.href = window.URL.createObjectURL(blob);\n",
              "      a.download = filename;\n",
              "      div.appendChild(a);\n",
              "      a.click();\n",
              "      div.remove();\n",
              "    }\n",
              "  "
            ]
          },
          "metadata": {}
        },
        {
          "output_type": "display_data",
          "data": {
            "text/plain": [
              "<IPython.core.display.Javascript object>"
            ],
            "application/javascript": [
              "download(\"download_3c521a01-6cf4-4f33-a520-6523c34dde0a\", \"output.xlsx\", 6967)"
            ]
          },
          "metadata": {}
        }
      ],
      "source": [
        "#@title Auto Calculate Phone Usage\n",
        "import pandas as pd\n",
        "import numpy as np\n",
        "from google.colab import files\n",
        "#Import File\n",
        "Raw_Data = pd.ExcelFile('Call Information Details Report.xlsx')\n",
        "Data = pd.read_excel(Raw_Data, 'Call Information Details Report')\n",
        "Data = Data.head(-4)\n",
        "Data1 = Data[['Calling Number','Start Date','Duration']]\n",
        "Data2 = Data[['Called Number','Start Date','Duration']]\n",
        "Data1.rename(columns={'Calling Number':'Called Number'},inplace=True)\n",
        "Final_Data = pd.concat([Data1,Data2],ignore_index=True)\n",
        "Final_Data['Called Number'] = Final_Data['Called Number'].astype(str).replace('\\.0','',regex=True)\n",
        "Final_Data = Final_Data[pd.to_numeric(Final_Data['Called Number'], errors='coerce').notnull()]\n",
        "Final_Data['Called Number'] = Final_Data['Called Number'].astype(float)\n",
        "Final_Data = Final_Data.groupby(['Called Number']).size().reset_index(name='N')\n",
        "Final_Data = Final_Data.sort_values(by=['N'],ascending=False)\n",
        "Final_Data = Final_Data.reset_index(drop=True)\n",
        "Final_Data['Avg_Usage']=Final_Data['N']/120\n",
        "Final_Data['Avg_Usage']=Final_Data['Avg_Usage'].apply(lambda x:round(x,2))\n",
        "Final_Data.rename(columns={'Called Number':'Phone Number'},inplace=True)\n",
        "Final_Data.to_excel('output.xlsx', encoding = 'utf-8-sig',index=False) \n",
        "files.download('output.xlsx')"
      ]
    },
    {
      "cell_type": "code",
      "source": [],
      "metadata": {
        "id": "oajGd_DecF1O"
      },
      "execution_count": null,
      "outputs": []
    }
  ]
}